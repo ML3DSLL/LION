{
 "cells": [
  {
   "attachments": {},
   "cell_type": "markdown",
   "metadata": {},
   "source": [
    "# Demo and Model Analysis\n",
    "This notebook is used to demonstrate the usage of LION and to analyze the model, component-by-component.\n",
    "\n",
    "The below two cells are just copied from demo.py, to load a checkpoint and sample a point cloud."
   ]
  },
  {
   "cell_type": "code",
   "execution_count": 1,
   "metadata": {},
   "outputs": [
    {
     "name": "stdout",
     "output_type": "stream",
     "text": [
      "Using /home/jw/.cache/torch_extensions/py38_cu111 as PyTorch extensions root...\n",
      "Detected CUDA files, patching ldflags\n",
      "Emitting ninja build file /home/jw/.cache/torch_extensions/py38_cu111/emd_ext/build.ninja...\n",
      "Building extension module emd_ext...\n",
      "Allowing ninja to set a default number of workers... (overridable by setting the environment variable MAX_JOBS=N)\n",
      "ninja: no work to do.\n",
      "Loading extension module emd_ext...\n",
      "load emd_ext time: 0.066s\n",
      "utils/utils.py: USE_COMET=1, USE_WB=0\n",
      "Using /home/jw/.cache/torch_extensions/py38_cu111 as PyTorch extensions root...\n",
      "Detected CUDA files, patching ldflags\n",
      "Emitting ninja build file /home/jw/.cache/torch_extensions/py38_cu111/_pvcnn_backend/build.ninja...\n",
      "Building extension module _pvcnn_backend...\n",
      "Allowing ninja to set a default number of workers... (overridable by setting the environment variable MAX_JOBS=N)\n",
      "ninja: no work to do.\n",
      "Loading extension module _pvcnn_backend...\n"
     ]
    },
    {
     "name": "stderr",
     "output_type": "stream",
     "text": [
      "2023-07-03 23:41:01.333 | INFO     | utils.model_helper:import_model:106 - import: models.shapelatent_modules.PointNetPlusEncoder\n",
      "2023-07-03 23:41:01.337 | INFO     | models.shapelatent_modules:__init__:29 - [Encoder] zdim=128, out_sigma=True; force_att: 0\n",
      "2023-07-03 23:41:01.337 | INFO     | utils.model_helper:import_model:106 - import: models.latent_points_ada.PointTransPVC\n",
      "2023-07-03 23:41:01.337 | INFO     | models.latent_points_ada:__init__:38 - [Build Unet] extra_feature_channels=0, input_dim=3\n",
      "2023-07-03 23:41:01.397 | INFO     | utils.model_helper:import_model:106 - import: models.latent_points_ada.LatentPointDecPVC\n",
      "2023-07-03 23:41:01.398 | INFO     | models.latent_points_ada:__init__:241 - [Build Dec] point_dim=3, context_dim=1\n",
      "2023-07-03 23:41:01.398 | INFO     | models.latent_points_ada:__init__:38 - [Build Unet] extra_feature_channels=1, input_dim=3\n",
      "2023-07-03 23:41:01.458 | INFO     | models.vae_adain:__init__:50 - [Build Model] style_encoder: models.shapelatent_modules.PointNetPlusEncoder, encoder: models.latent_points_ada.PointTransPVC, decoder: models.latent_points_ada.LatentPointDecPVC\n",
      "2023-07-03 23:41:02.709 | INFO     | utils.model_helper:import_model:106 - import: models.score_sde.resnet.PriorSEDrop\n",
      "2023-07-03 23:41:02.710 | INFO     | models.score_sde.resnet:__init__:135 - [Build Resnet Prior] Has condition input: False; clipforge 0; learn_mixing_logit=1, \n",
      "2023-07-03 23:41:02.711 | INFO     | models.score_sde.resnet:__init__:178 - [temb_fun] embedding_type=positional, embedding_scale=1.0, embedding_dim=128\n",
      "2023-07-03 23:41:03.012 | INFO     | models.latent_points_ada_localprior:__init__:43 - [Build Prior Model] nclass=4, embed_dim=64, use_att=True,extra_feature_channels=1, dropout=0.1, time_emb_scales=1.0 num_point=2048\n",
      "2023-07-03 23:41:03.013 | INFO     | models.latent_points_ada:__init__:38 - [Build Unet] extra_feature_channels=1, input_dim=3\n",
      "2023-07-03 23:41:03.077 | INFO     | utils.diffusion_pvd:__init__:36 - [Build Discrete Diffusion object] beta_start=0.0001, beta_end=0.02, mode=linear, num_steps=1000\n"
     ]
    },
    {
     "name": "stdout",
     "output_type": "stream",
     "text": [
      "INFO finish loading from ./lion_ckpt/snapshot\n"
     ]
    }
   ],
   "source": [
    "# Import and load model\n",
    "import os\n",
    "import clip\n",
    "import torch\n",
    "from PIL import Image\n",
    "from default_config import cfg as config\n",
    "from models.lion import LION\n",
    "from utils.vis_helper import plot_points\n",
    "from huggingface_hub import hf_hub_download \n",
    "\n",
    "model_path = './lion_ckpt/snapshot' # path to model checkpoint\n",
    "model_config = './lion_ckpt/cfg.yml' # path to model config\n",
    "\n",
    "config.merge_from_file(model_config)\n",
    "lion = LION(config)\n",
    "lion.load_model(model_path)\n"
   ]
  },
  {
   "cell_type": "code",
   "execution_count": 2,
   "metadata": {},
   "outputs": [
    {
     "data": {
      "image/png": "[encoded data removed]",
      "text/plain": [
       "<PIL.PngImagePlugin.PngImageFile image mode=RGB size=216x432 at 0x7FCD4F5B4520>"
      ]
     },
     "metadata": {},
     "output_type": "display_data"
    }
   ],
   "source": [
    "# Generate a sample\n",
    "if config.clipforge.enable: # currently not used\n",
    "    input_t = [\"a swivel chair, five wheels\"] \n",
    "    device_str = 'cuda'\n",
    "    clip_model, clip_preprocess = clip.load(\n",
    "                        config.clipforge.clip_model, device=device_str)    \n",
    "    text = clip.tokenize(input_t).to(device_str)\n",
    "    clip_feat = []\n",
    "    clip_feat.append(clip_model.encode_text(text).float())\n",
    "    clip_feat = torch.cat(clip_feat, dim=0)\n",
    "    print('clip_feat', clip_feat.shape)\n",
    "else:\n",
    "    clip_feat = None\n",
    "output_latent = lion.sample(1 if clip_feat is None else clip_feat.shape[0], clip_feat=clip_feat)\n",
    "pts = output_latent['points']\n",
    "img_name = \"/tmp/tmp.png\"\n",
    "plot_points(pts, output_name=img_name)\n",
    "img = Image.open(img_name)\n",
    "display(img)"
   ]
  },
  {
   "attachments": {},
   "cell_type": "markdown",
   "metadata": {},
   "source": [
    "# VAE: Global Encoder\n",
    "The encoder takes in a point cloud and outputs a latent vector. The input point cloud is first passed through the global encoder (`vae.style_encoder`) to get a global feature vector, in this paper referred to as the **global prior**."
   ]
  },
  {
   "cell_type": "code",
   "execution_count": 3,
   "metadata": {},
   "outputs": [
    {
     "name": "stdout",
     "output_type": "stream",
     "text": [
      "PointNetPlusEncoder(\n",
      "  (mlp): Linear(in_features=64, out_features=256, bias=True)\n",
      "  (layers): ModuleList(\n",
      "    (0): Sequential(\n",
      "      (0): PVConv(\n",
      "        (voxelization): Voxelization(resolution=32, normalized eps = 0)\n",
      "        (voxel_layers): Sequential(\n",
      "          (0): Conv3d(3, 32, kernel_size=(3, 3, 3), stride=(1, 1, 1), padding=(1, 1, 1))\n",
      "          (1): GroupNorm(8, 32, eps=1e-05, affine=True)\n",
      "          (2): Swish()\n",
      "          (3): Dropout(p=0.1, inplace=False)\n",
      "          (4): Conv3d(32, 32, kernel_size=(3, 3, 3), stride=(1, 1, 1), padding=(1, 1, 1))\n",
      "          (5): GroupNorm(8, 32, eps=1e-05, affine=True)\n",
      "          (6): SE(32, 32)\n",
      "        )\n",
      "        (point_features): SharedMLP(\n",
      "          (layers): Sequential(\n",
      "            (0): Conv1d(3, 32, kernel_size=(1,), stride=(1,))\n",
      "            (1): GroupNorm(8, 32, eps=1e-05, affine=True)\n",
      "            (2): Swish()\n",
      "          )\n",
      "        )\n",
      "      )\n",
      "      (1): PVConv(\n",
      "        (voxelization): Voxelization(resolution=32, normalized eps = 0)\n",
      "        (voxel_layers): Sequential(\n",
      "          (0): Conv3d(32, 32, kernel_size=(3, 3, 3), stride=(1, 1, 1), padding=(1, 1, 1))\n",
      "          (1): GroupNorm(8, 32, eps=1e-05, affine=True)\n",
      "          (2): Swish()\n",
      "          (3): Dropout(p=0.1, inplace=False)\n",
      "          (4): Conv3d(32, 32, kernel_size=(3, 3, 3), stride=(1, 1, 1), padding=(1, 1, 1))\n",
      "          (5): GroupNorm(8, 32, eps=1e-05, affine=True)\n",
      "          (6): SE(32, 32)\n",
      "        )\n",
      "        (point_features): SharedMLP(\n",
      "          (layers): Sequential(\n",
      "            (0): Conv1d(32, 32, kernel_size=(1,), stride=(1,))\n",
      "            (1): GroupNorm(8, 32, eps=1e-05, affine=True)\n",
      "            (2): Swish()\n",
      "          )\n",
      "        )\n",
      "      )\n",
      "      (2): PointNetSAModule(\n",
      "        num_centers=1024, out_channels=32\n",
      "        (groupers): ModuleList(\n",
      "          (0): BallQuery(radius=0.1, num_neighbors=32, include coordinates)\n",
      "        )\n",
      "        (mlps): ModuleList(\n",
      "          (0): SharedMLP(\n",
      "            (layers): Sequential(\n",
      "              (0): Conv2d(35, 32, kernel_size=(1, 1), stride=(1, 1))\n",
      "              (1): GroupNorm(8, 32, eps=1e-05, affine=True)\n",
      "              (2): Swish()\n",
      "              (3): Conv2d(32, 32, kernel_size=(1, 1), stride=(1, 1))\n",
      "              (4): GroupNorm(8, 32, eps=1e-05, affine=True)\n",
      "              (5): Swish()\n",
      "            )\n",
      "          )\n",
      "        )\n",
      "      )\n",
      "    )\n",
      "    (1): Sequential(\n",
      "      (0): PVConv(\n",
      "        (voxelization): Voxelization(resolution=16, normalized eps = 0)\n",
      "        (voxel_layers): Sequential(\n",
      "          (0): Conv3d(32, 32, kernel_size=(3, 3, 3), stride=(1, 1, 1), padding=(1, 1, 1))\n",
      "          (1): GroupNorm(8, 32, eps=1e-05, affine=True)\n",
      "          (2): Swish()\n",
      "          (3): Dropout(p=0.1, inplace=False)\n",
      "          (4): Conv3d(32, 32, kernel_size=(3, 3, 3), stride=(1, 1, 1), padding=(1, 1, 1))\n",
      "          (5): GroupNorm(8, 32, eps=1e-05, affine=True)\n",
      "          (6): SE(32, 32)\n",
      "        )\n",
      "        (attn): LinearAttention(\n",
      "          (to_qkv): Conv2d(32, 384, kernel_size=(1, 1), stride=(1, 1), bias=False)\n",
      "          (to_out): Conv2d(128, 32, kernel_size=(1, 1), stride=(1, 1))\n",
      "        )\n",
      "        (point_features): SharedMLP(\n",
      "          (layers): Sequential(\n",
      "            (0): Conv1d(32, 32, kernel_size=(1,), stride=(1,))\n",
      "            (1): GroupNorm(8, 32, eps=1e-05, affine=True)\n",
      "            (2): Swish()\n",
      "          )\n",
      "        )\n",
      "      )\n",
      "      (1): PointNetSAModule(\n",
      "        num_centers=256, out_channels=64\n",
      "        (groupers): ModuleList(\n",
      "          (0): BallQuery(radius=0.2, num_neighbors=32, include coordinates)\n",
      "        )\n",
      "        (mlps): ModuleList(\n",
      "          (0): SharedMLP(\n",
      "            (layers): Sequential(\n",
      "              (0): Conv2d(35, 32, kernel_size=(1, 1), stride=(1, 1))\n",
      "              (1): GroupNorm(8, 32, eps=1e-05, affine=True)\n",
      "              (2): Swish()\n",
      "              (3): Conv2d(32, 64, kernel_size=(1, 1), stride=(1, 1))\n",
      "              (4): GroupNorm(8, 64, eps=1e-05, affine=True)\n",
      "              (5): Swish()\n",
      "            )\n",
      "          )\n",
      "        )\n",
      "      )\n",
      "    )\n",
      "  )\n",
      ")\n"
     ]
    }
   ],
   "source": [
    "print(lion.vae.style_encoder)"
   ]
  },
  {
   "cell_type": "code",
   "execution_count": 4,
   "metadata": {},
   "outputs": [
    {
     "name": "stdout",
     "output_type": "stream",
     "text": [
      "Input Point Cloud: torch.Size([1, 2048, 3])\n",
      "Output Latent: mu=torch.Size([1, 128]), sigma=torch.Size([1, 128])\n"
     ]
    }
   ],
   "source": [
    "# random sample point cloud\n",
    "B, N = 1, 2048 # batch size, number of points\n",
    "input_pc = torch.randn(B, N, 3).cuda() # B, N, 3 (x, y, z)\n",
    "\n",
    "output_latent = lion.vae.style_encoder(input_pc)\n",
    "mu, sigma = output_latent['mu_1d'], output_latent['sigma_1d']\n",
    "\n",
    "print(f\"Input Point Cloud: {input_pc.shape}\")\n",
    "print(f\"Output Latent: mu={mu.shape}, sigma={sigma.shape}\")"
   ]
  },
  {
   "attachments": {},
   "cell_type": "markdown",
   "metadata": {},
   "source": [
    "### The architecture of the global encoder (`PointNetPlusEncoder`)\n",
    "The global encoder `PointNetPlusEncoder` consists of `PVConv` and ... (TODO) layers."
   ]
  },
  {
   "attachments": {},
   "cell_type": "markdown",
   "metadata": {},
   "source": [
    "\n",
    "#### PVConv (PVCNN)\n",
    "From the [PVCNN architecture](https://pvcnn.mit.edu/). One PVConv layer is conceptually similar to a convolutional layer, but applied to a point cloud. It takes an input point cloud of dim (B, 3, N) with a per-point feature vector of dim (B, C, N) and outputs a per-point feature vector of dim (B, C', N).\n",
    "\n",
    "The feature vector is initially just a copy of the point cloud (i.e. C=[xyz]), then the number of channels gradually gets increased, just like a CNN."
   ]
  },
  {
   "cell_type": "code",
   "execution_count": 5,
   "metadata": {},
   "outputs": [
    {
     "name": "stdout",
     "output_type": "stream",
     "text": [
      "PVConv(\n",
      "  (voxelization): Voxelization(resolution=32, normalized eps = 0)\n",
      "  (voxel_layers): Sequential(\n",
      "    (0): Conv3d(3, 32, kernel_size=(3, 3, 3), stride=(1, 1, 1), padding=(1, 1, 1))\n",
      "    (1): GroupNorm(8, 32, eps=1e-05, affine=True)\n",
      "    (2): Swish()\n",
      "    (3): Dropout(p=0.1, inplace=False)\n",
      "    (4): Conv3d(32, 32, kernel_size=(3, 3, 3), stride=(1, 1, 1), padding=(1, 1, 1))\n",
      "    (5): GroupNorm(8, 32, eps=1e-05, affine=True)\n",
      "    (6): SE(32, 32)\n",
      "  )\n",
      "  (point_features): SharedMLP(\n",
      "    (layers): Sequential(\n",
      "      (0): Conv1d(3, 32, kernel_size=(1,), stride=(1,))\n",
      "      (1): GroupNorm(8, 32, eps=1e-05, affine=True)\n",
      "      (2): Swish()\n",
      "    )\n",
      "  )\n",
      ")\n",
      "fused_features: torch.Size([1, 32, 2048])\n",
      "coords_input: torch.Size([1, 3, 2048]), True\n"
     ]
    }
   ],
   "source": [
    "pvconv = lion.vae.style_encoder.layers[0][0]\n",
    "print(pvconv)\n",
    "\n",
    "features = coords = input_pc.transpose(1, 2) # B, 3, N\n",
    "inputs = (features, coords, None) # (features, coords, time_embedding)\n",
    "\n",
    "# pvconv turns the 3-channel features into 32-channel features\n",
    "# coords_input is just the same as coords\n",
    "fused_features, coords_input, time_emb = pvconv(inputs)\n",
    "\n",
    "print(f\"fused_features: {fused_features.shape}\")\n",
    "print(f\"coords_input: {coords_input.shape}, {coords is coords_input}\")"
   ]
  },
  {
   "attachments": {},
   "cell_type": "markdown",
   "metadata": {},
   "source": [
    "####"
   ]
  },
  {
   "attachments": {},
   "cell_type": "markdown",
   "metadata": {},
   "source": [
    "# Global Prior\n",
    "The global prior is a latent vector of size (128,) that encodes information about the entire shape. When given an input point cloud (for either reconstruction or completion), it is produced by the encoder of the VAE. On the other hand, when doing generation, it is sampled from a standard normal distribution, as in a standard VAE. However, in order to make the global prior more informative, we use a technique called **Latent Diffusion**, which is done by the `global_prior` module.\n",
    "The global prior is then used to condition the decoder of the VAE to produce the output point cloud.\n",
    "> Note: In this case, the shape of the global prior latent vector is actually (128, 1, 1), as you can see below, in order to use `Conv2D` with kernel size (1, 1) and stride 1 as a \"hacky way\" to learn a multiplicative scalar factor for each of the 128 channels of the input latent vector. I.e. the extra 1, 1 are the dummy width and heights of the latent vector.  \n",
    "> `TODO: so why not just use a Linear layer?`"
   ]
  },
  {
   "cell_type": "code",
   "execution_count": 6,
   "metadata": {},
   "outputs": [
    {
     "name": "stdout",
     "output_type": "stream",
     "text": [
      "global_latent_shape [128, 1, 1]\n",
      "local_latent_shape [8192, 1, 1]\n",
      "PriorSEDrop(\n",
      "  (act): SiLU()\n",
      "  (temb_fun): PositionalEmbedding()\n",
      "  (temb_layer): Sequential(\n",
      "    (0): Conv2d(128, 512, kernel_size=(1, 1), stride=(1, 1))\n",
      "    (1): Conv2d(512, 2048, kernel_size=(1, 1), stride=(1, 1))\n",
      "  )\n",
      "  (input_layer): Conv2d(128, 2048, kernel_size=(1, 1), stride=(1, 1))\n",
      "  (output_layer): Conv2d(2048, 128, kernel_size=(1, 1), stride=(1, 1))\n",
      "  (all_modules): ModuleList(\n",
      "    (0): ResBlockSE_withdropout(2048, 2048, drop=0.300000)\n",
      "    (1): ResBlockSE_withdropout(2048, 2048, drop=0.300000)\n",
      "    (2): ResBlockSE_withdropout(2048, 2048, drop=0.300000)\n",
      "    (3): ResBlockSE_withdropout(2048, 2048, drop=0.300000)\n",
      "    (4): ResBlockSE_withdropout(2048, 2048, drop=0.300000)\n",
      "    (5): ResBlockSE_withdropout(2048, 2048, drop=0.300000)\n",
      "    (6): ResBlockSE_withdropout(2048, 2048, drop=0.300000)\n",
      "    (7): ResBlockSE_withdropout(2048, 2048, drop=0.300000)\n",
      "  )\n",
      ")\n",
      "output shape torch.Size([3, 128, 1, 1])\n"
     ]
    }
   ],
   "source": [
    "global_prior, local_prior = lion.priors\n",
    "global_latent_shape, local_latent_shape = lion.vae.latent_shape()\n",
    "print('global_latent_shape', global_latent_shape)\n",
    "print('local_latent_shape', local_latent_shape)\n",
    "# print(global_prior)\n",
    "\n",
    "N = 3 # num samples\n",
    "\n",
    "x = torch.randn(size=(N, *global_latent_shape)).cuda()\n",
    "t = torch.ones(N, dtype=torch.int64).cuda()\n",
    "\n",
    "print(global_prior)\n",
    "\n",
    "print('output shape', global_prior(x, t.float()).shape)"
   ]
  },
  {
   "cell_type": "code",
   "execution_count": null,
   "metadata": {},
   "outputs": [],
   "source": []
  }
 ],
 "metadata": {
  "kernelspec": {
   "display_name": "lion_env",
   "language": "python",
   "name": "python3"
  },
  "language_info": {
   "codemirror_mode": {
    "name": "ipython",
    "version": 3
   },
   "file_extension": ".py",
   "mimetype": "text/x-python",
   "name": "python",
   "nbconvert_exporter": "python",
   "pygments_lexer": "ipython3",
   "version": "3.8.12"
  },
  "orig_nbformat": 4
 },
 "nbformat": 4,
 "nbformat_minor": 2
}
